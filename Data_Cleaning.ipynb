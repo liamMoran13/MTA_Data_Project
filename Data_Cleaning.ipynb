{
 "cells": [
  {
   "cell_type": "markdown",
   "metadata": {},
   "source": [
    "# Import libraries"
   ]
  },
  {
   "cell_type": "code",
   "execution_count": 2,
   "metadata": {},
   "outputs": [],
   "source": [
    "import pandas as pd\n",
    "from sqlalchemy import create_engine\n",
    "import matplotlib.pyplot as plt\n",
    "import seaborn as sns"
   ]
  },
  {
   "cell_type": "markdown",
   "metadata": {},
   "source": [
    "# Pulling data and create dataframe"
   ]
  },
  {
   "cell_type": "markdown",
   "metadata": {},
   "source": [
    "I have added the databases to four seperate databases, so the first step will be to combine them."
   ]
  },
  {
   "cell_type": "code",
   "execution_count": 3,
   "metadata": {},
   "outputs": [],
   "source": [
    "# these four lines create the databases that we will pull the data from\n",
    "sqldb_2016 = create_engine('sqlite:///mta_data2016.db')\n",
    "sqldb_2017 = create_engine('sqlite:///mta_data2017.db')\n",
    "sqldb_2018 = create_engine('sqlite:///mta_data2018.db')\n",
    "sqldb_2019 = create_engine('sqlite:///mta_data2019.db')"
   ]
  },
  {
   "cell_type": "code",
   "execution_count": 4,
   "metadata": {},
   "outputs": [],
   "source": [
    "#we are pulling all of the information in the mta_data table in each db\n",
    "df_2016 = pd.read_sql('SELECT * FROM mta_data;', sqldb_2016)\n",
    "df_2017 = pd.read_sql('SELECT * FROM mta_data;', sqldb_2017)\n",
    "df_2018 = pd.read_sql('SELECT * FROM mta_data;', sqldb_2018)\n",
    "df_2019 = pd.read_sql('SELECT * FROM mta_data;', sqldb_2019)"
   ]
  },
  {
   "cell_type": "code",
   "execution_count": 9,
   "metadata": {},
   "outputs": [],
   "source": [
    "#we are combining the four tables \n",
    "df_combined = pd.concat([df_2016, df_2017, df_2018, df_2019])"
   ]
  },
  {
   "cell_type": "markdown",
   "metadata": {},
   "source": [
    "# Data Cleaning"
   ]
  },
  {
   "cell_type": "code",
   "execution_count": 13,
   "metadata": {},
   "outputs": [],
   "source": [
    "#remove irregular data readings to increase accuracy\n",
    "df = df_combined[df_combined['DESC'] == 'REGULAR']"
   ]
  },
  {
   "cell_type": "code",
   "execution_count": 12,
   "metadata": {},
   "outputs": [],
   "source": [
    "#adds a new column to represent date time\n",
    "df['DATETIME'] = pd.to_datetime(df['DATE'] + ' ' + df['TIME'])"
   ]
  },
  {
   "cell_type": "code",
   "execution_count": 14,
   "metadata": {},
   "outputs": [
    {
     "name": "stderr",
     "output_type": "stream",
     "text": [
      "/Users/liammoran/opt/anaconda3/lib/python3.8/site-packages/pandas/core/frame.py:4308: SettingWithCopyWarning: \n",
      "A value is trying to be set on a copy of a slice from a DataFrame\n",
      "\n",
      "See the caveats in the documentation: https://pandas.pydata.org/pandas-docs/stable/user_guide/indexing.html#returning-a-view-versus-a-copy\n",
      "  return super().drop(\n"
     ]
    }
   ],
   "source": [
    "#remove columns that we will not be using in this analysis\n",
    "df.drop(['DIVISION','LINENAME'], inplace=True, axis=1)"
   ]
  },
  {
   "cell_type": "code",
   "execution_count": 17,
   "metadata": {},
   "outputs": [
    {
     "name": "stderr",
     "output_type": "stream",
     "text": [
      "<ipython-input-17-36b8c87f672b>:1: SettingWithCopyWarning: \n",
      "A value is trying to be set on a copy of a slice from a DataFrame.\n",
      "Try using .loc[row_indexer,col_indexer] = value instead\n",
      "\n",
      "See the caveats in the documentation: https://pandas.pydata.org/pandas-docs/stable/user_guide/indexing.html#returning-a-view-versus-a-copy\n",
      "  df['YEAR'] = df['DATETIME'].dt.year\n"
     ]
    }
   ],
   "source": [
    "#extract the YEAR from the datetime column\n",
    "df['YEAR'] = df['DATETIME'].dt.year"
   ]
  },
  {
   "cell_type": "code",
   "execution_count": 19,
   "metadata": {},
   "outputs": [
    {
     "name": "stderr",
     "output_type": "stream",
     "text": [
      "<ipython-input-19-611d10b44909>:1: SettingWithCopyWarning: \n",
      "A value is trying to be set on a copy of a slice from a DataFrame\n",
      "\n",
      "See the caveats in the documentation: https://pandas.pydata.org/pandas-docs/stable/user_guide/indexing.html#returning-a-view-versus-a-copy\n",
      "  df.sort_values(['C/A','UNIT','SCP','STATION','YEAR','DATETIME'], inplace=True)\n"
     ]
    }
   ],
   "source": [
    "#resort the values so that we can calculate differences between previous timeperiods\n",
    "df.sort_values(['C/A','UNIT','SCP','STATION','YEAR','DATETIME'], inplace=True)"
   ]
  },
  {
   "cell_type": "code",
   "execution_count": 25,
   "metadata": {},
   "outputs": [],
   "source": [
    "#this is the list of stations in Greenwich Village and the East Village\n",
    "list_of_stations = ['W 4 ST-WASH SQ', '14 ST', 'HOUSTON ST', '14 ST-UNION SQ', '8 AV', '1 AV', '3 AV', '8 ST-NYU','ASTOR PL','BLEECKER ST',\"B'WAY-LAFAYETTE\",'PRINCE ST','CHRISTOPHER ST','2 AV','BOWERY','DELANCEY/ESSEX']"
   ]
  },
  {
   "cell_type": "markdown",
   "metadata": {},
   "source": [
    "In order to account for the differences in turnstile data and seasonal factors, I will be using the data for January from 2016-2019."
   ]
  },
  {
   "cell_type": "code",
   "execution_count": 65,
   "metadata": {},
   "outputs": [
    {
     "name": "stderr",
     "output_type": "stream",
     "text": [
      "<ipython-input-65-e0d835fbc502>:2: SettingWithCopyWarning: \n",
      "A value is trying to be set on a copy of a slice from a DataFrame.\n",
      "Try using .loc[row_indexer,col_indexer] = value instead\n",
      "\n",
      "See the caveats in the documentation: https://pandas.pydata.org/pandas-docs/stable/user_guide/indexing.html#returning-a-view-versus-a-copy\n",
      "  regional_stations['MONTH'] = regional_stations['DATETIME'].dt.month\n"
     ]
    }
   ],
   "source": [
    "#filter data using the list of stations\n",
    "regional_stations = df[df['STATION'].isin(list_of_stations)]\n",
    "#create column to represent the month column\n",
    "regional_stations['MONTH'] = regional_stations['DATETIME'].dt.month"
   ]
  },
  {
   "cell_type": "code",
   "execution_count": 69,
   "metadata": {},
   "outputs": [],
   "source": [
    "#filter the data to only include the information for January\n",
    "regional_stations = regional_stations[regional_stations['MONTH'] == 1]"
   ]
  },
  {
   "cell_type": "markdown",
   "metadata": {},
   "source": [
    "# Feature Engineering"
   ]
  },
  {
   "cell_type": "markdown",
   "metadata": {},
   "source": [
    "First, we will create the column that represents the amount of daily users per day."
   ]
  },
  {
   "cell_type": "code",
   "execution_count": 70,
   "metadata": {},
   "outputs": [],
   "source": [
    "#adding the previous value as a column on the DataFrame\n",
    "regional_stations['PREVIOUS_VALUE'] = regional_stations.groupby(['C/A','UNIT','SCP','STATION','YEAR'])['EXITS'].shift(1)"
   ]
  },
  {
   "cell_type": "code",
   "execution_count": 71,
   "metadata": {},
   "outputs": [],
   "source": [
    "# subtract the previous value from the number of exits to see how many exits occurred in the time period\n",
    "regional_stations['NEW_ENTRIES'] = regional_stations['EXITS'] - regional_stations['PREVIOUS_VALUE']\n",
    "# reset the index\n",
    "regional_stations.reset_index(drop=True,inplace=True)"
   ]
  },
  {
   "cell_type": "markdown",
   "metadata": {},
   "source": [
    "Clean up the new entries column to remove extraneous data and possible misreadings. We are choosing the number 14400 because that would mean that a new person is exiting the turnstile every second for four hours straight which is nearly impossible."
   ]
  },
  {
   "cell_type": "code",
   "execution_count": 73,
   "metadata": {},
   "outputs": [],
   "source": [
    "#remove massive negative numbers\n",
    "regional_stations.loc[regional_stations['NEW_ENTRIES'] < -14400,'NEW_ENTRIES'] = 0"
   ]
  },
  {
   "cell_type": "code",
   "execution_count": 83,
   "metadata": {},
   "outputs": [],
   "source": [
    "#convert negative values to positive values to account for backwards counting\n",
    "regional_stations.loc[regional_stations['NEW_ENTRIES'] < 0, 'NEW_ENTRIES'] = - regional_stations.loc[regional_stations['NEW_ENTRIES'] < 0, 'NEW_ENTRIES'] "
   ]
  },
  {
   "cell_type": "code",
   "execution_count": 89,
   "metadata": {},
   "outputs": [],
   "source": [
    "#remove very large values\n",
    "regional_stations.loc[regional_stations['NEW_ENTRIES'] > 14400,'NEW_ENTRIES'] = 0"
   ]
  },
  {
   "cell_type": "markdown",
   "metadata": {},
   "source": [
    "The next highest value is 7000, but we can see that that value is correct. SO that concludes the data cleaning for the exits column."
   ]
  },
  {
   "cell_type": "code",
   "execution_count": 99,
   "metadata": {},
   "outputs": [],
   "source": [
    "#get final sum totals for each station for each year\n",
    "station_year_totals = regional_stations.groupby(['STATION','YEAR'],as_index=False)['NEW_ENTRIES'].sum()"
   ]
  },
  {
   "cell_type": "markdown",
   "metadata": {},
   "source": [
    "# Final Dataframe"
   ]
  },
  {
   "cell_type": "code",
   "execution_count": 100,
   "metadata": {},
   "outputs": [
    {
     "data": {
      "text/html": [
       "<div>\n",
       "<style scoped>\n",
       "    .dataframe tbody tr th:only-of-type {\n",
       "        vertical-align: middle;\n",
       "    }\n",
       "\n",
       "    .dataframe tbody tr th {\n",
       "        vertical-align: top;\n",
       "    }\n",
       "\n",
       "    .dataframe thead th {\n",
       "        text-align: right;\n",
       "    }\n",
       "</style>\n",
       "<table border=\"1\" class=\"dataframe\">\n",
       "  <thead>\n",
       "    <tr style=\"text-align: right;\">\n",
       "      <th></th>\n",
       "      <th>STATION</th>\n",
       "      <th>YEAR</th>\n",
       "      <th>NEW_ENTRIES</th>\n",
       "    </tr>\n",
       "  </thead>\n",
       "  <tbody>\n",
       "    <tr>\n",
       "      <th>0</th>\n",
       "      <td>1 AV</td>\n",
       "      <td>2016</td>\n",
       "      <td>640026.0</td>\n",
       "    </tr>\n",
       "    <tr>\n",
       "      <th>1</th>\n",
       "      <td>1 AV</td>\n",
       "      <td>2017</td>\n",
       "      <td>538709.0</td>\n",
       "    </tr>\n",
       "    <tr>\n",
       "      <th>2</th>\n",
       "      <td>1 AV</td>\n",
       "      <td>2018</td>\n",
       "      <td>543100.0</td>\n",
       "    </tr>\n",
       "    <tr>\n",
       "      <th>3</th>\n",
       "      <td>1 AV</td>\n",
       "      <td>2019</td>\n",
       "      <td>502708.0</td>\n",
       "    </tr>\n",
       "    <tr>\n",
       "      <th>4</th>\n",
       "      <td>14 ST</td>\n",
       "      <td>2016</td>\n",
       "      <td>1255738.0</td>\n",
       "    </tr>\n",
       "  </tbody>\n",
       "</table>\n",
       "</div>"
      ],
      "text/plain": [
       "  STATION  YEAR  NEW_ENTRIES\n",
       "0    1 AV  2016     640026.0\n",
       "1    1 AV  2017     538709.0\n",
       "2    1 AV  2018     543100.0\n",
       "3    1 AV  2019     502708.0\n",
       "4   14 ST  2016    1255738.0"
      ]
     },
     "execution_count": 100,
     "metadata": {},
     "output_type": "execute_result"
    }
   ],
   "source": [
    "station_year_totals.head()"
   ]
  },
  {
   "cell_type": "code",
   "execution_count": 106,
   "metadata": {},
   "outputs": [],
   "source": [
    "#sort stations by total number of exits\n",
    "station_totals = station_year_totals.groupby(['STATION'],as_index=False)['NEW_ENTRIES'].sum().sort_values('NEW_ENTRIES',ascending=False)"
   ]
  },
  {
   "cell_type": "markdown",
   "metadata": {},
   "source": [
    "# First Visualization"
   ]
  },
  {
   "cell_type": "code",
   "execution_count": 121,
   "metadata": {},
   "outputs": [
    {
     "data": {
      "image/png": "[encoded data removed]",
      "text/plain": [
       "<Figure size 432x288 with 1 Axes>"
      ]
     },
     "metadata": {},
     "output_type": "display_data"
    }
   ],
   "source": [
    "first_viz = sns.barplot(x='STATION', y= 'NEW_ENTRIES', data= station_totals)\n",
    "plt.xticks(rotation=90)\n",
    "plt.title('Most Exited Stations in Greenwich and East Village',y=1.1,fontsize=20)\n",
    "plt.ylabel('Number of Exits (in millions)',fontstyle='oblique',fontsize=14)\n",
    "plt.xlabel('Name of Station',fontstyle='oblique',fontsize=14)\n",
    "sns.set_style('darkgrid')\n",
    "plt.savefig('Most_Exited2.png',bbox_inches='tight')"
   ]
  },
  {
   "cell_type": "markdown",
   "metadata": {},
   "source": [
    "# Building a Time Series"
   ]
  },
  {
   "cell_type": "markdown",
   "metadata": {},
   "source": [
    "We see that Union Square has by far the most exits. Now let's create a time series for that station."
   ]
  },
  {
   "cell_type": "code",
   "execution_count": 122,
   "metadata": {},
   "outputs": [],
   "source": [
    "#filter data to just include Union Square\n",
    "union_square = regional_stations[regional_stations['STATION'] == '14 ST-UNION SQ']"
   ]
  },
  {
   "cell_type": "code",
   "execution_count": 126,
   "metadata": {},
   "outputs": [],
   "source": [
    "# create a standardized list of times to filter the data on\n",
    "list_of_times = ['00:00:00','04:00:00','08:00:00','12:00:00','16:00:00','20:00:00']"
   ]
  },
  {
   "cell_type": "code",
   "execution_count": 127,
   "metadata": {},
   "outputs": [],
   "source": [
    "#filter the data with the previous list\n",
    "union_square = union_square[union_square['TIME'].isin(list_of_times)]"
   ]
  },
  {
   "cell_type": "code",
   "execution_count": 128,
   "metadata": {},
   "outputs": [
    {
     "data": {
      "text/plain": [
       "12:00:00    4043\n",
       "08:00:00    4037\n",
       "04:00:00    4036\n",
       "16:00:00    4033\n",
       "00:00:00    4002\n",
       "20:00:00    3972\n",
       "Name: TIME, dtype: int64"
      ]
     },
     "execution_count": 128,
     "metadata": {},
     "output_type": "execute_result"
    }
   ],
   "source": [
    "union_square.TIME.value_counts()"
   ]
  },
  {
   "cell_type": "markdown",
   "metadata": {},
   "source": [
    "These times are very close to even so we will move forward with the time series."
   ]
  },
  {
   "cell_type": "code",
   "execution_count": 130,
   "metadata": {},
   "outputs": [],
   "source": [
    "#add a day of the week column to the data\n",
    "union_square['day_of_week'] = union_square['DATETIME'].dt.dayofweek"
   ]
  },
  {
   "cell_type": "code",
   "execution_count": 131,
   "metadata": {},
   "outputs": [],
   "source": [
    "#create mappings that take each time and change it to how far in the day that is\n",
    "def create_mappings(value):\n",
    "    if value == '00:00:00':\n",
    "        return 0\n",
    "    elif value == '04:00:00':\n",
    "        return (1/6)\n",
    "    elif value == '08:00:00':\n",
    "        return (1/3)\n",
    "    elif value == '12:00:00':\n",
    "        return (1/2)\n",
    "    elif value == '16:00:00':\n",
    "        return (2/3)\n",
    "    elif value == '20:00:00':\n",
    "        return (5/6)\n",
    "    else:\n",
    "        return None"
   ]
  },
  {
   "cell_type": "code",
   "execution_count": 132,
   "metadata": {},
   "outputs": [],
   "source": [
    "#add an hours column to the data\n",
    "union_square['Hours'] = union_square['TIME'].apply(create_mappings) "
   ]
  },
  {
   "cell_type": "code",
   "execution_count": 133,
   "metadata": {},
   "outputs": [],
   "source": [
    "#combine the hours and day of the week columns to get the final x-axis for the dataset\n",
    "union_square['TIME_SERIES'] = union_square['Hours'] + union_square['day_of_week']"
   ]
  },
  {
   "cell_type": "code",
   "execution_count": 134,
   "metadata": {},
   "outputs": [],
   "source": [
    "#get the average number of exits in each timeperiod\n",
    "union_square_time_series = union_square.groupby(['YEAR','TIME_SERIES'],as_index=False)['NEW_ENTRIES'].mean()"
   ]
  },
  {
   "cell_type": "code",
   "execution_count": 135,
   "metadata": {},
   "outputs": [
    {
     "data": {
      "text/html": [
       "<div>\n",
       "<style scoped>\n",
       "    .dataframe tbody tr th:only-of-type {\n",
       "        vertical-align: middle;\n",
       "    }\n",
       "\n",
       "    .dataframe tbody tr th {\n",
       "        vertical-align: top;\n",
       "    }\n",
       "\n",
       "    .dataframe thead th {\n",
       "        text-align: right;\n",
       "    }\n",
       "</style>\n",
       "<table border=\"1\" class=\"dataframe\">\n",
       "  <thead>\n",
       "    <tr style=\"text-align: right;\">\n",
       "      <th></th>\n",
       "      <th>YEAR</th>\n",
       "      <th>TIME_SERIES</th>\n",
       "      <th>NEW_ENTRIES</th>\n",
       "    </tr>\n",
       "  </thead>\n",
       "  <tbody>\n",
       "    <tr>\n",
       "      <th>0</th>\n",
       "      <td>2016</td>\n",
       "      <td>0.000000</td>\n",
       "      <td>104.661871</td>\n",
       "    </tr>\n",
       "    <tr>\n",
       "      <th>1</th>\n",
       "      <td>2016</td>\n",
       "      <td>0.166667</td>\n",
       "      <td>26.649007</td>\n",
       "    </tr>\n",
       "    <tr>\n",
       "      <th>2</th>\n",
       "      <td>2016</td>\n",
       "      <td>0.333333</td>\n",
       "      <td>203.284768</td>\n",
       "    </tr>\n",
       "    <tr>\n",
       "      <th>3</th>\n",
       "      <td>2016</td>\n",
       "      <td>0.500000</td>\n",
       "      <td>656.079470</td>\n",
       "    </tr>\n",
       "    <tr>\n",
       "      <th>4</th>\n",
       "      <td>2016</td>\n",
       "      <td>0.666667</td>\n",
       "      <td>490.920530</td>\n",
       "    </tr>\n",
       "  </tbody>\n",
       "</table>\n",
       "</div>"
      ],
      "text/plain": [
       "   YEAR  TIME_SERIES  NEW_ENTRIES\n",
       "0  2016     0.000000   104.661871\n",
       "1  2016     0.166667    26.649007\n",
       "2  2016     0.333333   203.284768\n",
       "3  2016     0.500000   656.079470\n",
       "4  2016     0.666667   490.920530"
      ]
     },
     "execution_count": 135,
     "metadata": {},
     "output_type": "execute_result"
    }
   ],
   "source": [
    "union_square_time_series.head()"
   ]
  },
  {
   "cell_type": "markdown",
   "metadata": {},
   "source": [
    "Split the data into each year so that we can see if the trend is consistent year over year."
   ]
  },
  {
   "cell_type": "code",
   "execution_count": 137,
   "metadata": {},
   "outputs": [],
   "source": [
    "union_square_2016 = union_square_time_series[union_square_time_series['YEAR'] == 2016]\n",
    "union_square_2017 = union_square_time_series[union_square_time_series['YEAR'] == 2017]\n",
    "union_square_2018 = union_square_time_series[union_square_time_series['YEAR'] == 2018]\n",
    "union_square_2019 = union_square_time_series[union_square_time_series['YEAR'] == 2019]"
   ]
  },
  {
   "cell_type": "markdown",
   "metadata": {},
   "source": [
    "# Visualization 2"
   ]
  },
  {
   "cell_type": "code",
   "execution_count": 148,
   "metadata": {},
   "outputs": [
    {
     "data": {
      "image/png": "[encoded data removed]",
      "text/plain": [
       "<Figure size 432x288 with 1 Axes>"
      ]
     },
     "metadata": {},
     "output_type": "display_data"
    }
   ],
   "source": [
    "plt.plot(union_square_2016['TIME_SERIES'], union_square_2016['NEW_ENTRIES'],label='2016')\n",
    "plt.plot(union_square_2017['TIME_SERIES'], union_square_2017['NEW_ENTRIES'],label='2017')\n",
    "plt.plot(union_square_2018['TIME_SERIES'], union_square_2018['NEW_ENTRIES'],label='2018')\n",
    "plt.plot(union_square_2019['TIME_SERIES'], union_square_2019['NEW_ENTRIES'],label='2019')\n",
    "plt.title('Weekly Time Series for Union Square',fontsize=20)\n",
    "plt.xticks([0,1,2,3,4,5,6],['Monday','Tuesday','Wednesday','Thursday','Friday','Saturday','Sunday'],rotation=90)\n",
    "plt.xlabel('Day of the Week',fontsize=14)\n",
    "plt.ylabel('Average Number of Exits',fontsize=14)\n",
    "plt.legend()\n",
    "plt.savefig('Union_Square_Time_Series.png',bbox_inches='tight')"
   ]
  },
  {
   "cell_type": "code",
   "execution_count": null,
   "metadata": {},
   "outputs": [],
   "source": []
  }
 ],
 "metadata": {
  "kernelspec": {
   "display_name": "Python 3",
   "language": "python",
   "name": "python3"
  },
  "language_info": {
   "codemirror_mode": {
    "name": "ipython",
    "version": 3
   },
   "file_extension": ".py",
   "mimetype": "text/x-python",
   "name": "python",
   "nbconvert_exporter": "python",
   "pygments_lexer": "ipython3",
   "version": "3.7.6"
  }
 },
 "nbformat": 4,
 "nbformat_minor": 5
}
