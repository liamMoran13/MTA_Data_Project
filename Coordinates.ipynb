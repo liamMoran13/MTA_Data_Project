{
 "cells": [
  {
   "cell_type": "code",
   "execution_count": 1,
   "id": "870e8200",
   "metadata": {},
   "outputs": [],
   "source": [
    "import pandas as pd"
   ]
  },
  {
   "cell_type": "code",
   "execution_count": 2,
   "id": "71dfc699",
   "metadata": {},
   "outputs": [],
   "source": [
    "coordinates = pd.read_csv('NYC_Transit_Subway_Entrance_And_Exit_Data.csv')"
   ]
  },
  {
   "cell_type": "code",
   "execution_count": 11,
   "id": "b2c2b7e2",
   "metadata": {},
   "outputs": [],
   "source": [
    "coordinates.head()\n",
    "station_names = coordinates[['Station Name', 'Station Location']]"
   ]
  },
  {
   "cell_type": "code",
   "execution_count": 15,
   "id": "418fa2fd",
   "metadata": {},
   "outputs": [
    {
     "name": "stderr",
     "output_type": "stream",
     "text": [
      "<ipython-input-15-4a290ddec420>:1: SettingWithCopyWarning: \n",
      "A value is trying to be set on a copy of a slice from a DataFrame\n",
      "\n",
      "See the caveats in the documentation: https://pandas.pydata.org/pandas-docs/stable/user_guide/indexing.html#returning-a-view-versus-a-copy\n",
      "  station_names.drop_duplicates(inplace=True).reset_index()\n"
     ]
    },
    {
     "ename": "AttributeError",
     "evalue": "'NoneType' object has no attribute 'reset_index'",
     "output_type": "error",
     "traceback": [
      "\u001b[0;31m---------------------------------------------------------------------------\u001b[0m",
      "\u001b[0;31mAttributeError\u001b[0m                            Traceback (most recent call last)",
      "\u001b[0;32m<ipython-input-15-4a290ddec420>\u001b[0m in \u001b[0;36m<module>\u001b[0;34m\u001b[0m\n\u001b[0;32m----> 1\u001b[0;31m \u001b[0mstation_names\u001b[0m\u001b[0;34m.\u001b[0m\u001b[0mdrop_duplicates\u001b[0m\u001b[0;34m(\u001b[0m\u001b[0minplace\u001b[0m\u001b[0;34m=\u001b[0m\u001b[0;32mTrue\u001b[0m\u001b[0;34m)\u001b[0m\u001b[0;34m.\u001b[0m\u001b[0mreset_index\u001b[0m\u001b[0;34m(\u001b[0m\u001b[0;34m)\u001b[0m\u001b[0;34m\u001b[0m\u001b[0;34m\u001b[0m\u001b[0m\n\u001b[0m",
      "\u001b[0;31mAttributeError\u001b[0m: 'NoneType' object has no attribute 'reset_index'"
     ]
    }
   ],
   "source": [
    "station_names.drop_duplicates(inplace=True).reset_index()"
   ]
  },
  {
   "cell_type": "code",
   "execution_count": 18,
   "id": "971e4b31",
   "metadata": {},
   "outputs": [],
   "source": [
    "list_of_stations = ['West 4th St','14th St','Houston St','14th St-Union Square','8th Av','1st Av','3rd Av','West 8th St','Astor Place','Bleecker St','Broadway-Lafayette St','Prince St','Christopher St','2nd Av','Bowery','Delancey St']"
   ]
  },
  {
   "cell_type": "code",
   "execution_count": 29,
   "id": "cc786540",
   "metadata": {},
   "outputs": [],
   "source": [
    "shortened_list = station_names[station_names['Station Name'].isin(list_of_stations)]\n",
    "shortened_list.drop_duplicates(subset='Station Name',inplace=True)"
   ]
  },
  {
   "cell_type": "code",
   "execution_count": 33,
   "id": "6f244a64",
   "metadata": {},
   "outputs": [
    {
     "data": {
      "text/plain": [
       "(16, 2)"
      ]
     },
     "execution_count": 33,
     "metadata": {},
     "output_type": "execute_result"
    }
   ],
   "source": [
    "shortened_list.shape"
   ]
  },
  {
   "cell_type": "code",
   "execution_count": 43,
   "id": "ffb1e873",
   "metadata": {},
   "outputs": [
    {
     "name": "stderr",
     "output_type": "stream",
     "text": [
      "<ipython-input-43-6b324e11771a>:1: SettingWithCopyWarning: \n",
      "A value is trying to be set on a copy of a slice from a DataFrame.\n",
      "Try using .loc[row_indexer,col_indexer] = value instead\n",
      "\n",
      "See the caveats in the documentation: https://pandas.pydata.org/pandas-docs/stable/user_guide/indexing.html#returning-a-view-versus-a-copy\n",
      "  shortened_list['Latitude'] = shortened_list['Station Location'].apply(lambda x: x.split(',')[0])\n",
      "<ipython-input-43-6b324e11771a>:2: SettingWithCopyWarning: \n",
      "A value is trying to be set on a copy of a slice from a DataFrame.\n",
      "Try using .loc[row_indexer,col_indexer] = value instead\n",
      "\n",
      "See the caveats in the documentation: https://pandas.pydata.org/pandas-docs/stable/user_guide/indexing.html#returning-a-view-versus-a-copy\n",
      "  shortened_list['Latitude'] = shortened_list['Latitude'].apply(lambda x: x.replace('(',''))\n",
      "<ipython-input-43-6b324e11771a>:3: SettingWithCopyWarning: \n",
      "A value is trying to be set on a copy of a slice from a DataFrame.\n",
      "Try using .loc[row_indexer,col_indexer] = value instead\n",
      "\n",
      "See the caveats in the documentation: https://pandas.pydata.org/pandas-docs/stable/user_guide/indexing.html#returning-a-view-versus-a-copy\n",
      "  shortened_list['Longitude'] = shortened_list['Station Location'].apply(lambda x: x.split(',')[1].replace(')',''))\n"
     ]
    },
    {
     "data": {
      "text/plain": [
       "71       -73.996209\n",
       "89       -73.989938\n",
       "153      -73.996204\n",
       "169      -73.988114\n",
       "361      -74.000495\n",
       "454      -73.975939\n",
       "530      -73.997702\n",
       "687      -74.002906\n",
       "699      -74.005367\n",
       "789      -73.981628\n",
       "793      -73.986122\n",
       "799      -74.002578\n",
       "1290     -73.989951\n",
       "1362      -73.99107\n",
       "1364     -73.994659\n",
       "1454     -73.993915\n",
       "Name: Longitude, dtype: object"
      ]
     },
     "execution_count": 43,
     "metadata": {},
     "output_type": "execute_result"
    }
   ],
   "source": [
    "shortened_list['Latitude'] = shortened_list['Station Location'].apply(lambda x: x.split(',')[0])\n",
    "shortened_list['Latitude'] = shortened_list['Latitude'].apply(lambda x: x.replace('(',''))\n",
    "shortened_list['Longitude'] = shortened_list['Station Location'].apply(lambda x: x.split(',')[1].replace(')',''))\n",
    "shortened_list['Longitude']"
   ]
  },
  {
   "cell_type": "code",
   "execution_count": 44,
   "id": "2a04d5ec",
   "metadata": {},
   "outputs": [],
   "source": [
    "shortened_list.to_csv('subway_locations2.csv',index=False)"
   ]
  },
  {
   "cell_type": "code",
   "execution_count": 46,
   "id": "fbd134ae",
   "metadata": {},
   "outputs": [],
   "source": [
    "def add_values(station):\n",
    "    if station == '14th St-Union Square':\n",
    "        return 8126553.0\n",
    "    elif station == '14th St':\n",
    "        return 4455388.0\n",
    "    elif station == 'West 4th St':\n",
    "        return 3372397.0\n",
    "    elif station == 'Broadway-Lafayette St':\n",
    "        return 2471168.0\n",
    "    elif station == '8th Av':\n",
    "        return 2371595.0\n",
    "    elif station == '1st Av':\n",
    "        return 2224543.0\n",
    "    elif station == 'Delancey St':\n",
    "        return 1723831.0\n",
    "    elif station == 'Astor Place':\n",
    "        return 1498626.0\n",
    "    elif station == '2nd Av':\n",
    "        return 1493766.0\n",
    "    elif station == 'Prince St':\n",
    "        return 1337013.0\n",
    "    elif station == 'Christopher St':\n",
    "        return 1198269.0\n",
    "    elif station == 'West 8th St':\n",
    "        return 1086853.0\n",
    "    elif station == 'Houston St':\n",
    "        return 809383.0\n",
    "    elif station == '3rd Av':\n",
    "        return 666111.0\n",
    "    elif station == 'Bleecker St':\n",
    "        return 533771.0\n",
    "    elif station == 'Bowery':\n",
    "        return 291214.0\n",
    "        "
   ]
  },
  {
   "cell_type": "code",
   "execution_count": 47,
   "id": "bfa14da8",
   "metadata": {},
   "outputs": [
    {
     "name": "stderr",
     "output_type": "stream",
     "text": [
      "<ipython-input-47-f2bd4f5245ff>:1: SettingWithCopyWarning: \n",
      "A value is trying to be set on a copy of a slice from a DataFrame.\n",
      "Try using .loc[row_indexer,col_indexer] = value instead\n",
      "\n",
      "See the caveats in the documentation: https://pandas.pydata.org/pandas-docs/stable/user_guide/indexing.html#returning-a-view-versus-a-copy\n",
      "  shortened_list['Total_Exits'] = shortened_list['Station Name'].apply(add_values)\n"
     ]
    }
   ],
   "source": [
    "shortened_list['Total_Exits'] = shortened_list['Station Name'].apply(add_values)"
   ]
  },
  {
   "cell_type": "code",
   "execution_count": 48,
   "id": "c0399b80",
   "metadata": {},
   "outputs": [
    {
     "data": {
      "text/html": [
       "<div>\n",
       "<style scoped>\n",
       "    .dataframe tbody tr th:only-of-type {\n",
       "        vertical-align: middle;\n",
       "    }\n",
       "\n",
       "    .dataframe tbody tr th {\n",
       "        vertical-align: top;\n",
       "    }\n",
       "\n",
       "    .dataframe thead th {\n",
       "        text-align: right;\n",
       "    }\n",
       "</style>\n",
       "<table border=\"1\" class=\"dataframe\">\n",
       "  <thead>\n",
       "    <tr style=\"text-align: right;\">\n",
       "      <th></th>\n",
       "      <th>Station Name</th>\n",
       "      <th>Station Location</th>\n",
       "      <th>Latitude</th>\n",
       "      <th>Longitude</th>\n",
       "      <th>Total_Exits</th>\n",
       "    </tr>\n",
       "  </thead>\n",
       "  <tbody>\n",
       "    <tr>\n",
       "      <th>71</th>\n",
       "      <td>14th St</td>\n",
       "      <td>(40.738228, -73.996209)</td>\n",
       "      <td>40.738228</td>\n",
       "      <td>-73.996209</td>\n",
       "      <td>4455388.0</td>\n",
       "    </tr>\n",
       "    <tr>\n",
       "      <th>89</th>\n",
       "      <td>2nd Av</td>\n",
       "      <td>(40.723402, -73.989938)</td>\n",
       "      <td>40.723402</td>\n",
       "      <td>-73.989938</td>\n",
       "      <td>1493766.0</td>\n",
       "    </tr>\n",
       "    <tr>\n",
       "      <th>153</th>\n",
       "      <td>Broadway-Lafayette St</td>\n",
       "      <td>(40.725297, -73.996204)</td>\n",
       "      <td>40.725297</td>\n",
       "      <td>-73.996204</td>\n",
       "      <td>2471168.0</td>\n",
       "    </tr>\n",
       "    <tr>\n",
       "      <th>169</th>\n",
       "      <td>Delancey St</td>\n",
       "      <td>(40.718611, -73.988114)</td>\n",
       "      <td>40.718611</td>\n",
       "      <td>-73.988114</td>\n",
       "      <td>1723831.0</td>\n",
       "    </tr>\n",
       "    <tr>\n",
       "      <th>361</th>\n",
       "      <td>West 4th St</td>\n",
       "      <td>(40.732338, -74.000495)</td>\n",
       "      <td>40.732338</td>\n",
       "      <td>-74.000495</td>\n",
       "      <td>3372397.0</td>\n",
       "    </tr>\n",
       "    <tr>\n",
       "      <th>454</th>\n",
       "      <td>West 8th St</td>\n",
       "      <td>(40.576127, -73.975939)</td>\n",
       "      <td>40.576127</td>\n",
       "      <td>-73.975939</td>\n",
       "      <td>1086853.0</td>\n",
       "    </tr>\n",
       "    <tr>\n",
       "      <th>530</th>\n",
       "      <td>Prince St</td>\n",
       "      <td>(40.724329, -73.997702)</td>\n",
       "      <td>40.724329</td>\n",
       "      <td>-73.997702</td>\n",
       "      <td>1337013.0</td>\n",
       "    </tr>\n",
       "    <tr>\n",
       "      <th>687</th>\n",
       "      <td>Christopher St</td>\n",
       "      <td>(40.733422, -74.002906)</td>\n",
       "      <td>40.733422</td>\n",
       "      <td>-74.002906</td>\n",
       "      <td>1198269.0</td>\n",
       "    </tr>\n",
       "    <tr>\n",
       "      <th>699</th>\n",
       "      <td>Houston St</td>\n",
       "      <td>(40.728251, -74.005367)</td>\n",
       "      <td>40.728251</td>\n",
       "      <td>-74.005367</td>\n",
       "      <td>809383.0</td>\n",
       "    </tr>\n",
       "    <tr>\n",
       "      <th>789</th>\n",
       "      <td>1st Av</td>\n",
       "      <td>(40.730953, -73.981628)</td>\n",
       "      <td>40.730953</td>\n",
       "      <td>-73.981628</td>\n",
       "      <td>2224543.0</td>\n",
       "    </tr>\n",
       "    <tr>\n",
       "      <th>793</th>\n",
       "      <td>3rd Av</td>\n",
       "      <td>(40.732849, -73.986122)</td>\n",
       "      <td>40.732849</td>\n",
       "      <td>-73.986122</td>\n",
       "      <td>666111.0</td>\n",
       "    </tr>\n",
       "    <tr>\n",
       "      <th>799</th>\n",
       "      <td>8th Av</td>\n",
       "      <td>(40.739777, -74.002578)</td>\n",
       "      <td>40.739777</td>\n",
       "      <td>-74.002578</td>\n",
       "      <td>2371595.0</td>\n",
       "    </tr>\n",
       "    <tr>\n",
       "      <th>1290</th>\n",
       "      <td>14th St-Union Square</td>\n",
       "      <td>(40.734673, -73.989951)</td>\n",
       "      <td>40.734673</td>\n",
       "      <td>-73.989951</td>\n",
       "      <td>8126553.0</td>\n",
       "    </tr>\n",
       "    <tr>\n",
       "      <th>1362</th>\n",
       "      <td>Astor Place</td>\n",
       "      <td>(40.730054, -73.99107)</td>\n",
       "      <td>40.730054</td>\n",
       "      <td>-73.99107</td>\n",
       "      <td>1498626.0</td>\n",
       "    </tr>\n",
       "    <tr>\n",
       "      <th>1364</th>\n",
       "      <td>Bleecker St</td>\n",
       "      <td>(40.725915, -73.994659)</td>\n",
       "      <td>40.725915</td>\n",
       "      <td>-73.994659</td>\n",
       "      <td>533771.0</td>\n",
       "    </tr>\n",
       "    <tr>\n",
       "      <th>1454</th>\n",
       "      <td>Bowery</td>\n",
       "      <td>(40.72028, -73.993915)</td>\n",
       "      <td>40.72028</td>\n",
       "      <td>-73.993915</td>\n",
       "      <td>291214.0</td>\n",
       "    </tr>\n",
       "  </tbody>\n",
       "</table>\n",
       "</div>"
      ],
      "text/plain": [
       "               Station Name         Station Location   Latitude    Longitude  \\\n",
       "71                  14th St  (40.738228, -73.996209)  40.738228   -73.996209   \n",
       "89                   2nd Av  (40.723402, -73.989938)  40.723402   -73.989938   \n",
       "153   Broadway-Lafayette St  (40.725297, -73.996204)  40.725297   -73.996204   \n",
       "169             Delancey St  (40.718611, -73.988114)  40.718611   -73.988114   \n",
       "361             West 4th St  (40.732338, -74.000495)  40.732338   -74.000495   \n",
       "454             West 8th St  (40.576127, -73.975939)  40.576127   -73.975939   \n",
       "530               Prince St  (40.724329, -73.997702)  40.724329   -73.997702   \n",
       "687          Christopher St  (40.733422, -74.002906)  40.733422   -74.002906   \n",
       "699              Houston St  (40.728251, -74.005367)  40.728251   -74.005367   \n",
       "789                  1st Av  (40.730953, -73.981628)  40.730953   -73.981628   \n",
       "793                  3rd Av  (40.732849, -73.986122)  40.732849   -73.986122   \n",
       "799                  8th Av  (40.739777, -74.002578)  40.739777   -74.002578   \n",
       "1290   14th St-Union Square  (40.734673, -73.989951)  40.734673   -73.989951   \n",
       "1362            Astor Place   (40.730054, -73.99107)  40.730054    -73.99107   \n",
       "1364            Bleecker St  (40.725915, -73.994659)  40.725915   -73.994659   \n",
       "1454                 Bowery   (40.72028, -73.993915)   40.72028   -73.993915   \n",
       "\n",
       "      Total_Exits  \n",
       "71      4455388.0  \n",
       "89      1493766.0  \n",
       "153     2471168.0  \n",
       "169     1723831.0  \n",
       "361     3372397.0  \n",
       "454     1086853.0  \n",
       "530     1337013.0  \n",
       "687     1198269.0  \n",
       "699      809383.0  \n",
       "789     2224543.0  \n",
       "793      666111.0  \n",
       "799     2371595.0  \n",
       "1290    8126553.0  \n",
       "1362    1498626.0  \n",
       "1364     533771.0  \n",
       "1454     291214.0  "
      ]
     },
     "execution_count": 48,
     "metadata": {},
     "output_type": "execute_result"
    }
   ],
   "source": [
    "shortened_list"
   ]
  },
  {
   "cell_type": "code",
   "execution_count": 49,
   "id": "c723b17c",
   "metadata": {},
   "outputs": [],
   "source": [
    "shortened_list.to_csv('subway_locations3.csv',index=False)"
   ]
  },
  {
   "cell_type": "code",
   "execution_count": null,
   "id": "b832c30c",
   "metadata": {},
   "outputs": [],
   "source": []
  }
 ],
 "metadata": {
  "kernelspec": {
   "display_name": "Python 3",
   "language": "python",
   "name": "python3"
  },
  "language_info": {
   "codemirror_mode": {
    "name": "ipython",
    "version": 3
   },
   "file_extension": ".py",
   "mimetype": "text/x-python",
   "name": "python",
   "nbconvert_exporter": "python",
   "pygments_lexer": "ipython3",
   "version": "3.8.8"
  }
 },
 "nbformat": 4,
 "nbformat_minor": 5
}
